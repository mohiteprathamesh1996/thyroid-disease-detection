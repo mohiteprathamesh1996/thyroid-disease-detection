{
    "cells": [
        {
            "cell_type": "markdown",
            "id": "5c666425",
            "metadata": {},
            "source": [
                "### Importing packages"
            ]
        },
        {
            "cell_type": "code",
            "execution_count": 1,
            "id": "3dae6b77",
            "metadata": {},
            "outputs": [],
            "source": [
                "import os\n",
                "import pymongo\n",
                "import yaml\n",
                "import rarfile\n",
                "from tqdm import tqdm\n",
                "import pandas as pd\n",
                "import numpy as np\n",
                "import requests\n",
                "import ruamel.yaml\n",
                "from thyroid.constant.env_variable import *\n",
                "import certifi\n",
                "ca = certifi.where()\n",
                "\n",
                "\n",
                "client = pymongo.MongoClient(\n",
                "    MONGO_DB_URL,\n",
                "    tlsCAFile = ca\n",
                ")\n",
                "\n",
                "collection = client[\"ineuron\"][\"thyroid\"]\n",
                "\n",
                "import warnings\n",
                "warnings.filterwarnings(\"ignore\")"
            ]
        },
        {
            "cell_type": "markdown",
            "id": "7fe859b1",
            "metadata": {},
            "source": [
                "### Load raw files"
            ]
        },
        {
            "cell_type": "code",
            "execution_count": 2,
            "id": "f061289b",
            "metadata": {},
            "outputs": [],
            "source": [
                "dataset_link = \"C:\\\\Users\\\\pm353\\\\Downloads\\\\thyroid+disease\"\n",
                "\n",
                "with open(os.path.join(dataset_link, \"hypothyroid.data\")) as f:\n",
                "    data = f.readlines()\n",
                "\n",
                "with open(os.path.join(dataset_link, \"hypothyroid.names\")) as f:\n",
                "    colnames = f.readlines()\n",
                "\n",
                "dataset = pd.DataFrame(\n",
                "    [[i.strip() for i in j.split(\",\")] for j in data],\n",
                "    columns=[\n",
                "        i.strip().split(\":\")[0] for i in colnames if i != \"\\n\"\n",
                "    ]\n",
                ").rename(\n",
                "    columns={\n",
                "        \"hypothyroid, negative.\": \"Target\"\n",
                "    }\n",
                ")"
            ]
        },
        {
            "cell_type": "markdown",
            "id": "aa0d57c8",
            "metadata": {},
            "source": [
                "### Upload data to MongoDB"
            ]
        },
        {
            "cell_type": "code",
            "execution_count": 3,
            "id": "cc440ddb",
            "metadata": {},
            "outputs": [
                {
                    "name": "stderr",
                    "output_type": "stream",
                    "text": [
                        "100%|██████████████████████████████████████████████████████████████████████████████| 3163/3163 [01:48<00:00, 29.07it/s]\n"
                    ]
                }
            ],
            "source": [
                "for i in tqdm(range(dataset.shape[0])):\n",
                "    try:\n",
                "        collection.insert_one(dict(dataset.iloc[i, :]))\n",
                "    except:\n",
                "        pass"
            ]
        },
        {
            "cell_type": "markdown",
            "id": "696543b0",
            "metadata": {},
            "source": [
                "### Load data from MongoDB"
            ]
        },
        {
            "cell_type": "code",
            "execution_count": 10,
            "id": "d5281bf9",
            "metadata": {},
            "outputs": [],
            "source": [
                "df_thyroid = pd.DataFrame(\n",
                "    list(collection.find())\n",
                ").drop(\n",
                "    columns=[\"_id\"],\n",
                "    axis=1\n",
                ").replace(\n",
                "    {\n",
                "        \"na\": np.nan,\n",
                "        \"?\": np.nan\n",
                "    }\n",
                ")\n",
                "\n",
                "str_cols = [\n",
                "    'tumor', 'query_on_thyroxine', 'thyroid_surgery', 'sick',\n",
                "    'pregnant', 'FTI_measured', 'on_antithyroid_medication',\n",
                "    'T3_measured', 'on_thyroxine', 'Target', 'query_hyperthyroid',\n",
                "    'T4U_measured', 'TT4_measured', 'query_hypothyroid', 'goitre',\n",
                "    'sex', 'TBG_measured', 'lithium', 'TSH_measured'\n",
                "]\n",
                "\n",
                "numerical_cols = [\"T4U\", \"TSH\", \"age\", \"T3\", \"TT4\", \"FTI\", \"TBG\"]\n",
                "\n",
                "for i in str_cols:\n",
                "    df_thyroid[i] = df_thyroid[i].astype(\"str\")\n",
                "\n",
                "for i in numerical_cols:\n",
                "    df_thyroid[i] = df_thyroid[i].astype(\"float64\")\n",
                "\n",
                "\n",
                "def create_schema_from_dataframe(df):\n",
                "    # Create a dictionary for the schema\n",
                "    schema_dict = {'columns': []}\n",
                "\n",
                "    # Iterate over columns in the DataFrame\n",
                "    for column in df.columns:\n",
                "        column_info = {column: df[column].dtype.name}\n",
                "        schema_dict['columns'].append(column_info)\n",
                "\n",
                "    # Create a YAML instance\n",
                "    yaml = ruamel.yaml.YAML()\n",
                "\n",
                "    # Save the dictionary to a YAML file\n",
                "    with open('config/schema.yaml', 'w') as file:\n",
                "        yaml.dump(schema_dict, file)\n",
                "\n",
                "\n",
                "create_schema_from_dataframe(df=df_thyroid)"
            ]
        },
        {
            "cell_type": "code",
            "execution_count": null,
            "id": "92bea831",
            "metadata": {},
            "outputs": [],
            "source": []
        },
        {
            "cell_type": "code",
            "execution_count": null,
            "id": "82ac9f9e",
            "metadata": {},
            "outputs": [],
            "source": []
        }
    ],
    "metadata": {
        "kernelspec": {
            "display_name": "Python 3 (ipykernel)",
            "language": "python",
            "name": "python3"
        },
        "language_info": {
            "codemirror_mode": {
                "name": "ipython",
                "version": 3
            },
            "file_extension": ".py",
            "mimetype": "text/x-python",
            "name": "python",
            "nbconvert_exporter": "python",
            "pygments_lexer": "ipython3",
            "version": "3.11.5"
        }
    },
    "nbformat": 4,
    "nbformat_minor": 5
}
